{
 "cells": [
  {
   "cell_type": "markdown",
   "metadata": {},
   "source": [
    "# Background\n",
    "\n",
    "Dataset: https://physionet.org/content/mimiciii-demo/1.4/  \n",
    "Data info: https://mimic.physionet.org/mimictables/callout/  \n",
    "Full database: https://physionet.org/content/mimiciii/1.4/\n",
    "ICD9 codes scraped from: https://en.wikipedia.org/wiki/List_of_ICD-9_codes_001%E2%80%93139:_infectious_and_parasitic_diseases\n",
    "\n",
    "## Definitions\n",
    "SUBJECT_ID: indicates a unique patient. There can be multiple instances which indicates readmittance.  \n",
    "\n",
    "HADM_ID, represents a single patient’s admission to the hospital; cannot be duplicates  \n",
    "\n",
    "ADMITTIME provides the date and time the patient was admitted to the hospital  \n",
    "\n",
    "ISCHTIME provides the date and time the patient was discharged from the hospital  \n",
    "\n",
    "DEATHTIME provides the time of in-hospital death for the patient  \n",
    "\n",
    "ADMISSION_TYPE describes the type of the admission: ‘ELECTIVE’, ‘URGENT’, ‘NEWBORN’ or ‘EMERGENCY’. Emergency/urgent indicate unplanned medical care, and are often collapsed into a single category in studies. Elective indicates a previously planned hospital admission. Newborn indicates that the HADM_ID pertains to the patient’s birth  \n",
    "\n",
    "ADMISSION_LOCATION provides information about the previous location of the patient prior to arriving at the hospital. There are 9 possible values:\n",
    "* EMERGENCY ROOM ADMIT\n",
    "* TRANSFER FROM HOSP/EXTRAM\n",
    "* TRANSFER FROM OTHER HEALT\n",
    "* CLINIC REFERRAL/PREMATURE\n",
    "* ** INFO NOT AVAILABLE **\n",
    "* TRANSFER FROM SKILLED NUR\n",
    "* TRSF WITHIN THIS FACILITY\n",
    "* HMO REFERRAL/SICK\n",
    "* PHYS REFERRAL/NORMAL DELI  \n",
    "\n",
    "EDREGTIME, EDOUTTIME: Time that the patient was registered and discharged from the emergency department  \n",
    "  \n",
    "DIAGNOSIS column provides a preliminary, free text diagnosis for the patient on hospital admission.  \n",
    "\n",
    "HOSPITAL_EXPIRE_FLAG: This indicates whether the patient died within the given hospitalization. 1 indicates death in the hospital, and 0 indicates survival to hospital discharge.  \n",
    "\n",
    "INSURANCE, LANGUAGE, RELIGION, MARITAL_STATUS, ETHNICITY columns describe patient demographics  \n",
    "\n",
    "TRANSFERTIME is the time at which the patient moved from the previous service  \n",
    "\n",
    "PREV_SERVICE and CURR_SERVICE are the previous and current service that the patient resides under.  \n",
    "\n",
    "GENDER is the genotypical sex of the patient  \n",
    "\n",
    "DOB is the date of birth of the given patient. Patients who are older than 89 years old at any time in the database have had their date of birth shifted to obscure their age and comply with HIPAA  \n",
    "\n",
    "DOD is the date of death for the given patient  \n",
    "\n",
    "SEQ_NUM provides the order in which the ICD diagnoses relate to the patient  \n",
    "\n",
    "ICD9_CODE contains the actual code corresponding to the diagnosis assigned to the patient for the given row.  \n",
    "\n",
    "SUBMIT_WARDID identifies the ward from which the request was submitted."
   ]
  },
  {
   "cell_type": "code",
   "execution_count": 5,
   "metadata": {},
   "outputs": [],
   "source": [
    "import numpy as np\n",
    "import pandas as pd\n",
    "import datetime as dt\n",
    "\n",
    "#visualization\n",
    "import seaborn as sns\n",
    "from matplotlib import pyplot as plt\n",
    "%matplotlib inline\n",
    "\n",
    "from sklearn.metrics import mean_squared_error, r2_score\n",
    "from sklearn.linear_model import LinearRegression  \n",
    "from sklearn.model_selection import train_test_split\n",
    "\n",
    "from importing_data import import_data\n",
    "from hospital_data_cleaning import clean_data\n",
    "from dummifying_data import dummifying_cat_cols"
   ]
  },
  {
   "cell_type": "markdown",
   "metadata": {},
   "source": [
    "## Importing & Merging Datasets"
   ]
  },
  {
   "cell_type": "code",
   "execution_count": 2,
   "metadata": {},
   "outputs": [
    {
     "name": "stdout",
     "output_type": "stream",
     "text": [
      "admissions imported\n",
      "patients imported\n",
      "diagnoses_icd imported\n",
      "services imported\n",
      "Sucess, all files were merged.\n",
      "Success, appropriate columns were selected.\n",
      "Success, files imported and columns selected.\n"
     ]
    }
   ],
   "source": [
    "hosp_data = import_data()"
   ]
  },
  {
   "cell_type": "code",
   "execution_count": 3,
   "metadata": {},
   "outputs": [
    {
     "name": "stdout",
     "output_type": "stream",
     "text": [
      "Length of stay column was added.\n",
      "Age column was added.\n",
      "DOB column was dropped\n",
      "There are 92 unique subject_ids in the origonal and new dataset and 92 unique hadm_ids.\n",
      "Patients who died in the hospital were removed.\n",
      "Languages were cleaned.\n",
      "Marital status was cleaned.\n",
      "Admissions locations were cleaned.\n",
      "Religions were cleaned.\n",
      "Ethnicities were cleaned.\n",
      "Scraping beginning.\n",
      "ICD9 codes scraped from Wikipedia.\n",
      "Temp indicator column created.\n",
      "ICD9 codes converted.\n"
     ]
    }
   ],
   "source": [
    "hosp_data_clean = clean_data(hosp_data)"
   ]
  },
  {
   "cell_type": "code",
   "execution_count": null,
   "metadata": {},
   "outputs": [],
   "source": [
    "#Not for use. Saved for any issues. \n",
    "clean_data_saved = hosp_data_clean.copy()"
   ]
  },
  {
   "cell_type": "markdown",
   "metadata": {},
   "source": [
    "# Creating Dummy Variables"
   ]
  },
  {
   "cell_type": "code",
   "execution_count": 6,
   "metadata": {},
   "outputs": [
    {
     "name": "stdout",
     "output_type": "stream",
     "text": [
      "ICD9 dummy variables created.\n"
     ]
    }
   ],
   "source": [
    "hosp_dummied = dummifying_cat_cols(hosp_data_clean)"
   ]
  },
  {
   "cell_type": "code",
   "execution_count": null,
   "metadata": {},
   "outputs": [],
   "source": []
  }
 ],
 "metadata": {
  "kernelspec": {
   "display_name": "Python 3",
   "language": "python",
   "name": "python3"
  },
  "language_info": {
   "codemirror_mode": {
    "name": "ipython",
    "version": 3
   },
   "file_extension": ".py",
   "mimetype": "text/x-python",
   "name": "python",
   "nbconvert_exporter": "python",
   "pygments_lexer": "ipython3",
   "version": "3.7.5"
  }
 },
 "nbformat": 4,
 "nbformat_minor": 2
}
