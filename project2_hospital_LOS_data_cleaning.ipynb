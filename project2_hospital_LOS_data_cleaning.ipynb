{
 "cells": [
  {
   "cell_type": "code",
   "execution_count": 452,
   "metadata": {},
   "outputs": [],
   "source": [
    "import numpy as np\n",
    "import pandas as pd\n",
    "from bs4 import BeautifulSoup\n",
    "import requests\n",
    "from IPython.core.display import display, HTML\n",
    "import datetime as dt\n",
    "\n",
    "#visualization\n",
    "import seaborn as sns\n",
    "from matplotlib import pyplot as plt\n",
    "%matplotlib inline\n",
    "\n",
    "from sklearn.metrics import mean_squared_error, r2_score\n",
    "from sklearn.linear_model import LinearRegression  \n",
    "from sklearn.model_selection import train_test_split"
   ]
  },
  {
   "cell_type": "markdown",
   "metadata": {},
   "source": [
    "# Background\n",
    "\n",
    "Dataset: https://physionet.org/content/mimiciii-demo/1.4/  \n",
    "Data info: https://mimic.physionet.org/mimictables/callout/  \n",
    "Full database: https://physionet.org/content/mimiciii/1.4/\n",
    "ICD9 codes scraped from: https://en.wikipedia.org/wiki/List_of_ICD-9_codes_001%E2%80%93139:_infectious_and_parasitic_diseases\n",
    "\n",
    "## Definitions\n",
    "SUBJECT_ID: indicates a unique patient. There can be multiple instances which indicates readmittance.  \n",
    "\n",
    "HADM_ID, represents a single patient’s admission to the hospital; cannot be duplicates  \n",
    "\n",
    "ADMITTIME provides the date and time the patient was admitted to the hospital  \n",
    "\n",
    "ISCHTIME provides the date and time the patient was discharged from the hospital  \n",
    "\n",
    "DEATHTIME provides the time of in-hospital death for the patient  \n",
    "\n",
    "ADMISSION_TYPE describes the type of the admission: ‘ELECTIVE’, ‘URGENT’, ‘NEWBORN’ or ‘EMERGENCY’. Emergency/urgent indicate unplanned medical care, and are often collapsed into a single category in studies. Elective indicates a previously planned hospital admission. Newborn indicates that the HADM_ID pertains to the patient’s birth  \n",
    "\n",
    "ADMISSION_LOCATION provides information about the previous location of the patient prior to arriving at the hospital. There are 9 possible values:\n",
    "* EMERGENCY ROOM ADMIT\n",
    "* TRANSFER FROM HOSP/EXTRAM\n",
    "* TRANSFER FROM OTHER HEALT\n",
    "* CLINIC REFERRAL/PREMATURE\n",
    "* ** INFO NOT AVAILABLE **\n",
    "* TRANSFER FROM SKILLED NUR\n",
    "* TRSF WITHIN THIS FACILITY\n",
    "* HMO REFERRAL/SICK\n",
    "* PHYS REFERRAL/NORMAL DELI  \n",
    "\n",
    "EDREGTIME, EDOUTTIME: Time that the patient was registered and discharged from the emergency department  \n",
    "  \n",
    "DIAGNOSIS column provides a preliminary, free text diagnosis for the patient on hospital admission.  \n",
    "\n",
    "HOSPITAL_EXPIRE_FLAG: This indicates whether the patient died within the given hospitalization. 1 indicates death in the hospital, and 0 indicates survival to hospital discharge.  \n",
    "\n",
    "INSURANCE, LANGUAGE, RELIGION, MARITAL_STATUS, ETHNICITY columns describe patient demographics  \n",
    "\n",
    "TRANSFERTIME is the time at which the patient moved from the previous service  \n",
    "\n",
    "PREV_SERVICE and CURR_SERVICE are the previous and current service that the patient resides under.  \n",
    "\n",
    "GENDER is the genotypical sex of the patient  \n",
    "\n",
    "DOB is the date of birth of the given patient. Patients who are older than 89 years old at any time in the database have had their date of birth shifted to obscure their age and comply with HIPAA  \n",
    "\n",
    "DOD is the date of death for the given patient  \n",
    "\n",
    "SEQ_NUM provides the order in which the ICD diagnoses relate to the patient  \n",
    "\n",
    "ICD9_CODE contains the actual code corresponding to the diagnosis assigned to the patient for the given row.  \n",
    "\n",
    "SUBMIT_WARDID identifies the ward from which the request was submitted."
   ]
  },
  {
   "cell_type": "markdown",
   "metadata": {},
   "source": [
    "## Importing & Merging Datasets"
   ]
  },
  {
   "cell_type": "code",
   "execution_count": 557,
   "metadata": {},
   "outputs": [],
   "source": [
    "def import_files(file_name):\n",
    "    return pd.read_csv(f'data/{file_name}.csv')\n",
    "\n",
    "admissions = import_files('admissions')\n",
    "patients = import_files('patients')\n",
    "diagnoses = import_files('diagnoses_icd')\n",
    "services = import_files('services')"
   ]
  },
  {
   "cell_type": "code",
   "execution_count": 558,
   "metadata": {},
   "outputs": [],
   "source": [
    "def common_columns(dataset1, dataset2):\n",
    "    \"\"\"takes two datasets and returns any columns that the two\n",
    "    datasets have in common\"\"\"\n",
    "    \n",
    "    common = [col for col in dataset1.columns if col in dataset2.columns]\n",
    "    return common"
   ]
  },
  {
   "cell_type": "code",
   "execution_count": 559,
   "metadata": {},
   "outputs": [
    {
     "data": {
      "text/plain": [
       "['row_id', 'subject_id']"
      ]
     },
     "execution_count": 559,
     "metadata": {},
     "output_type": "execute_result"
    }
   ],
   "source": [
    "#identifying which columns admissions and patients share\n",
    "adm_and_pat = common_columns(admissions, patients)\n",
    "adm_and_pat"
   ]
  },
  {
   "cell_type": "code",
   "execution_count": 560,
   "metadata": {},
   "outputs": [],
   "source": [
    "raw_data = admissions.merge(patients, how='outer', on='subject_id')"
   ]
  },
  {
   "cell_type": "code",
   "execution_count": 561,
   "metadata": {},
   "outputs": [
    {
     "data": {
      "text/plain": [
       "['subject_id', 'hadm_id']"
      ]
     },
     "execution_count": 561,
     "metadata": {},
     "output_type": "execute_result"
    }
   ],
   "source": [
    "raw_and_diagnoses = common_columns(raw_data, diagnoses)\n",
    "raw_and_diagnoses"
   ]
  },
  {
   "cell_type": "code",
   "execution_count": 562,
   "metadata": {},
   "outputs": [],
   "source": [
    "raw_data = raw_data.merge(diagnoses, how='outer', on=('subject_id', 'hadm_id'))"
   ]
  },
  {
   "cell_type": "code",
   "execution_count": 563,
   "metadata": {},
   "outputs": [
    {
     "data": {
      "text/plain": [
       "['subject_id', 'hadm_id', 'row_id']"
      ]
     },
     "execution_count": 563,
     "metadata": {},
     "output_type": "execute_result"
    }
   ],
   "source": [
    "los_and_services = common_columns(raw_data, services)\n",
    "los_and_services"
   ]
  },
  {
   "cell_type": "code",
   "execution_count": 564,
   "metadata": {},
   "outputs": [],
   "source": [
    "raw_data = raw_data.merge(services, how='outer', on=('subject_id', 'hadm_id'))"
   ]
  },
  {
   "cell_type": "code",
   "execution_count": 565,
   "metadata": {},
   "outputs": [
    {
     "data": {
      "text/plain": [
       "Index(['row_id_x', 'subject_id', 'hadm_id', 'admittime', 'dischtime',\n",
       "       'deathtime', 'admission_type', 'admission_location',\n",
       "       'discharge_location', 'insurance', 'language', 'religion',\n",
       "       'marital_status', 'ethnicity', 'edregtime', 'edouttime', 'diagnosis',\n",
       "       'hospital_expire_flag', 'has_chartevents_data', 'row_id_y', 'gender',\n",
       "       'dob', 'dod', 'dod_hosp', 'dod_ssn', 'expire_flag', 'row_id_x',\n",
       "       'seq_num', 'icd9_code', 'row_id_y', 'transfertime', 'prev_service',\n",
       "       'curr_service'],\n",
       "      dtype='object')"
      ]
     },
     "execution_count": 565,
     "metadata": {},
     "output_type": "execute_result"
    }
   ],
   "source": [
    "raw_data.columns"
   ]
  },
  {
   "cell_type": "code",
   "execution_count": 566,
   "metadata": {},
   "outputs": [],
   "source": [
    "#removing columns that are repeated or unessesary \n",
    "keeping_cols = ['subject_id',\n",
    "                'hadm_id',\n",
    "                'admittime',\n",
    "                'dischtime',\n",
    "                'admission_type',\n",
    "                'admission_location',\n",
    "                'insurance',\n",
    "                'language',\n",
    "                'religion',\n",
    "                'marital_status',\n",
    "                'ethnicity',\n",
    "                'gender',\n",
    "                'dob',\n",
    "                'deathtime',\n",
    "                'icd9_code',\n",
    "                'curr_service'\n",
    "               ]\n",
    "\n",
    "raw_data = raw_data[keeping_cols]"
   ]
  },
  {
   "cell_type": "code",
   "execution_count": 567,
   "metadata": {},
   "outputs": [
    {
     "name": "stdout",
     "output_type": "stream",
     "text": [
      "<class 'pandas.core.frame.DataFrame'>\n",
      "Int64Index: 2191 entries, 0 to 2190\n",
      "Data columns (total 16 columns):\n",
      "subject_id            2191 non-null int64\n",
      "hadm_id               2191 non-null int64\n",
      "admittime             2191 non-null object\n",
      "dischtime             2191 non-null object\n",
      "admission_type        2191 non-null object\n",
      "admission_location    2191 non-null object\n",
      "insurance             2191 non-null object\n",
      "language              1516 non-null object\n",
      "religion              2182 non-null object\n",
      "marital_status        2048 non-null object\n",
      "ethnicity             2191 non-null object\n",
      "gender                2191 non-null object\n",
      "dob                   2191 non-null object\n",
      "deathtime             670 non-null object\n",
      "icd9_code             2191 non-null object\n",
      "curr_service          2191 non-null object\n",
      "dtypes: int64(2), object(14)\n",
      "memory usage: 291.0+ KB\n"
     ]
    }
   ],
   "source": [
    "raw_data.info()"
   ]
  },
  {
   "cell_type": "markdown",
   "metadata": {},
   "source": [
    "## Cleaning Data"
   ]
  },
  {
   "cell_type": "markdown",
   "metadata": {},
   "source": [
    "### Adding LOS column"
   ]
  },
  {
   "cell_type": "code",
   "execution_count": 568,
   "metadata": {},
   "outputs": [],
   "source": [
    "#creating a copy to enable reverts\n",
    "los_data = raw_data.copy()"
   ]
  },
  {
   "cell_type": "code",
   "execution_count": 569,
   "metadata": {},
   "outputs": [],
   "source": [
    "# LOS will be calculated as the discharge time - admission time. \n",
    "# Before doing so, both columns must be converted to datetime types\n",
    "los_data.admittime = pd.to_datetime(los_data.admittime)\n",
    "los_data.dischtime = pd.to_datetime(los_data.dischtime)\n",
    "\n",
    "#timedelta displays in days/hour/seconds, for analysis columns should be in hours\n",
    "los_data['los'] = (pd.to_datetime(los_data.dischtime) - pd.to_datetime(los_data.admittime)).dt.total_seconds()/120\n",
    "\n",
    "#removing discharge information for redundancy and becuase it would be unknown while patient is in the hospital\n",
    "los_data = los_data.drop(columns=['dischtime'])"
   ]
  },
  {
   "cell_type": "code",
   "execution_count": 570,
   "metadata": {},
   "outputs": [
    {
     "data": {
      "image/png": "[encoded data removed]",
      "text/plain": [
       "<Figure size 720x288 with 1 Axes>"
      ]
     },
     "metadata": {
      "needs_background": "light"
     },
     "output_type": "display_data"
    }
   ],
   "source": [
    "plt.figure(figsize=(10,4))\n",
    "plt.hist(los_data.los, bins=50);"
   ]
  },
  {
   "cell_type": "markdown",
   "metadata": {},
   "source": [
    "### Isolate first visit only"
   ]
  },
  {
   "cell_type": "code",
   "execution_count": 571,
   "metadata": {},
   "outputs": [],
   "source": [
    "#for the first pass, predict LOS for first time patients only"
   ]
  },
  {
   "cell_type": "code",
   "execution_count": 623,
   "metadata": {},
   "outputs": [],
   "source": [
    "def identifying_firsts(data):\n",
    "    \"\"\"for each subject_id, keep only the rows from the first ever visit\"\"\"\n",
    "    first_visit_dict = {}\n",
    "    first_by_subj = los_data.groupby('subject_id')['admittime'].first().reset_index()\n",
    "    for row in first_by_subj.index:\n",
    "        first_visit_dict[first_by_subj.iloc[row, 0]] = first_by_subj.iloc[row, 1]\n",
    "    return first_visit_dict\n",
    "\n",
    "def isolating_firsts(data):\n",
    "    \"\"\"Creates a new dataframe with only the first visit for each unique patient.\n",
    "    Leverages identifying_firsts to create a reference dictionary to identify all\n",
    "    rows that are part of the patients first time visits. There should be an equal \n",
    "    number of unique subject_ids in the origonal and new dataset.\"\"\"\n",
    "    \n",
    "    unique_subjs_in_original_data = data.subject_id.nunique()\n",
    "    first_visit_dict = identifying_firsts(los_data)\n",
    "    first_visit_only = pd.DataFrame(columns=data.columns)\n",
    "    \n",
    "    for k, v in first_visit_dict.items():\n",
    "        single_subj = data[(data.subject_id == k) & (data.admittime == v)]\n",
    "        first_visit_only = first_visit_only.append(single_subj, ignore_index=True)\n",
    "    \n",
    "    new_data_unique_subjs = first_visit_only.subject_id.nunique()\n",
    "    new_data_unique_hadm = first_visit_only.hadm_id.nunique()\n",
    "    \n",
    "    if unique_subjs_in_original_data == new_data_unique_subjs:\n",
    "        print(f\"Success! There are {new_data_unique_subjs} unique subject_ids in the origonal and new dataset and {new_data_unique_hadm} unique hadm_ids.\")\n",
    "    else:\n",
    "        print(f\"Something went wrong. There are {new_data_unique_subjs} in the new dataset and {unique_subjs_in_original_data} in the origonal.\")\n",
    "    \n",
    "    return first_visit_only"
   ]
  },
  {
   "cell_type": "code",
   "execution_count": 693,
   "metadata": {},
   "outputs": [
    {
     "name": "stdout",
     "output_type": "stream",
     "text": [
      "Success! There are 100 unique subject_ids in the origonal and new dataset and 100 unique hadm_ids.\n"
     ]
    }
   ],
   "source": [
    "first_visit_data = isolating_firsts(los_data)"
   ]
  },
  {
   "cell_type": "code",
   "execution_count": 694,
   "metadata": {},
   "outputs": [
    {
     "name": "stdout",
     "output_type": "stream",
     "text": [
      "<class 'pandas.core.frame.DataFrame'>\n",
      "RangeIndex: 1636 entries, 0 to 1635\n",
      "Data columns (total 16 columns):\n",
      "subject_id            1636 non-null object\n",
      "hadm_id               1636 non-null object\n",
      "admittime             1636 non-null datetime64[ns]\n",
      "admission_type        1636 non-null object\n",
      "admission_location    1636 non-null object\n",
      "insurance             1636 non-null object\n",
      "language              1073 non-null object\n",
      "religion              1627 non-null object\n",
      "marital_status        1501 non-null object\n",
      "ethnicity             1636 non-null object\n",
      "gender                1636 non-null object\n",
      "dob                   1636 non-null object\n",
      "deathtime             544 non-null object\n",
      "icd9_code             1636 non-null object\n",
      "curr_service          1636 non-null object\n",
      "los                   1636 non-null float64\n",
      "dtypes: datetime64[ns](1), float64(1), object(14)\n",
      "memory usage: 204.6+ KB\n"
     ]
    }
   ],
   "source": [
    "first_visit_data.info()"
   ]
  },
  {
   "cell_type": "markdown",
   "metadata": {},
   "source": [
    "### Removing subjects who died"
   ]
  },
  {
   "cell_type": "code",
   "execution_count": 695,
   "metadata": {},
   "outputs": [],
   "source": [
    "#analysis assumes that the subject does not die while in the hopsital\n",
    "first_visit_data = first_visit_data[first_visit_data.deathtime.isna()]\n",
    "\n",
    "#to simplify data, removing any columns that are provide information only if individual has died\n",
    "first_visit_data = first_visit_data.drop(columns = ['deathtime'])"
   ]
  },
  {
   "cell_type": "markdown",
   "metadata": {},
   "source": [
    "first_visit_data.info()"
   ]
  },
  {
   "cell_type": "markdown",
   "metadata": {},
   "source": [
    "### ICD9 codes"
   ]
  },
  {
   "cell_type": "markdown",
   "metadata": {},
   "source": [
    "ICD-9-CM is a 6 digit number derived from the 9th edition of the International Classification of Diseases. The code is a standardize indication of diagnoses.\n",
    "\n",
    "The dataset documentation explains that there is a decimal point implied between the third and fourth digit for all diagnosis other than V codes. The decimal is implied for V codes between the second and third digit. \n",
    "\n",
    "The first three numbers of the code indicate the general class of diagnosis and the numbers after the decimal place provide information into the specific condition within the general class of diagnosis. For the purpose of this analysis, we will consider only which of the 19 class options, the diagnosis falls into. \n",
    "\n",
    "Class codes will be scraped from Wikipedia. "
   ]
  },
  {
   "cell_type": "code",
   "execution_count": 696,
   "metadata": {},
   "outputs": [
    {
     "name": "stdout",
     "output_type": "stream",
     "text": [
      "Website loaded successfully!\n"
     ]
    },
    {
     "data": {
      "text/plain": [
       "{'001–139': 'Infectious and Parasitic Disease',\n",
       " '140–239': 'Neoplasm',\n",
       " '240–279': 'Endocrine, Nutritional and Metabolic Diseases, and Immunity Disorder',\n",
       " '280–289': 'Diseases of the Blood and Blood-forming Organ',\n",
       " '290–319': 'Mental Disorder',\n",
       " '320–389': 'Diseases of the Nervous System and Sense Organ',\n",
       " '390–459': 'Diseases of the Circulatory Syste',\n",
       " '460–519': 'Diseases of the Respiratory Syste',\n",
       " '520–579': 'Diseases of the Digestive Syste',\n",
       " '580–629': 'Diseases of the Genitourinary Syste',\n",
       " '630–679': 'Complications of Pregnancy, Childbirth, and the Puerperiu',\n",
       " '680–709': 'Diseases of the Skin and Subcutaneous Tissu',\n",
       " '710–739': 'Diseases of the Musculoskeletal System and Connective Tissu',\n",
       " '740–759': 'Congenital Anomalie',\n",
       " '760–779': 'Certain Conditions originating in the Perinatal Perio',\n",
       " '780–799': 'Symptoms, Signs and Ill-defined Condition',\n",
       " '800–999': 'Injury and Poisonin',\n",
       " 'E800–E999': 'Supplementary Classification of External Causes of Injury and Poisonin',\n",
       " 'V01–V82': 'Supplementary Classification of Factors influencing Health Status and Contact with Health Service',\n",
       " 'M8000–M9970': 'Morphology of Neoplasm'}"
      ]
     },
     "execution_count": 696,
     "metadata": {},
     "output_type": "execute_result"
    }
   ],
   "source": [
    "def load_for_scraping():\n",
    "    url = \"https://en.wikipedia.org/wiki/List_of_ICD-9_codes_E_and_V_codes:_external_causes_of_injury_and_supplemental_classification\"\n",
    "    response = requests.get(url)\n",
    "    status = response.status_code\n",
    "    if status == 200:\n",
    "        print(\"Website loaded successfully!\")\n",
    "        page = response.text\n",
    "        soup = BeautifulSoup(page, \"lxml\")\n",
    "        return soup\n",
    "    else:\n",
    "        print(f\"Status code: {status}\")\n",
    "    return\n",
    "\n",
    "def scraping_icd9():\n",
    "    \"\"\"Scrapes the ICD-9 wikipedia page for ICD-9 codes and diagnoses\"\"\"\n",
    "    soup = load_for_scraping()\n",
    "    tables = soup.find(class_ = 'wikitable')\n",
    "    diagnosis = {}\n",
    "    rows = [row for row in tables.find_all('tr')]\n",
    "    for row in rows[1:]:\n",
    "        items = row.find_all('td')\n",
    "        link = items[1].find('a')\n",
    "        num_range = link.text\n",
    "        name_column= items[2]\n",
    "        name = name_column.text[:-2]\n",
    "        diagnosis[num_range] = name\n",
    "    return diagnosis\n",
    "    \n",
    "diagnosis_dict = scraping_icd9()\n",
    "diagnosis_dict"
   ]
  },
  {
   "cell_type": "code",
   "execution_count": 697,
   "metadata": {},
   "outputs": [],
   "source": [
    "def create_icd_indicator_col(data):\n",
    "    indicator = []\n",
    "    data['icd_indicator'] = np.nan\n",
    "    data.icd9_code = data.icd9_code.astype(str)\n",
    "    \n",
    "    for val in data.icd9_code:\n",
    "        if val[0] == 'V':\n",
    "            indicator.append(.1)\n",
    "        if val[0] == 'E':\n",
    "            indicator.append(.7)\n",
    "        if (val[0] != 'E') & (val[0] != 'V'):\n",
    "            indicator.append(float(val[:3]))\n",
    "    data.icd_indicator = indicator\n",
    "    return data\n",
    "\n",
    "def converting_icd9_range(data):\n",
    "    indicator = []\n",
    "    keys = list(diagnosis_dict.keys())\n",
    "    indicating_data = create_icd_indicator_col(data)\n",
    "    \n",
    "    #indicating_data['icd_diagnosis'] = diagnosis_dict[indicating_data.icd_range]\n",
    "    for val in indicating_data.icd_indicator:\n",
    "        if 1 <= val < 139:\n",
    "            indicator.append(diagnosis_dict[keys[0]])\n",
    "        elif 140 <= val <= 239:\n",
    "            indicator.append(diagnosis_dict[keys[1]])\n",
    "        elif 240 <= val <= 279:\n",
    "            indicator.append(diagnosis_dict[keys[2]]) \n",
    "        elif 280 <= val <= 289:\n",
    "            indicator.append(diagnosis_dict[keys[3]]) \n",
    "        elif 290 <= val <= 319:\n",
    "            indicator.append(diagnosis_dict[keys[4]]) \n",
    "        elif 320 <= val <= 389:\n",
    "            indicator.append(diagnosis_dict[keys[5]]) \n",
    "        elif 390 <= val <= 459:\n",
    "            indicator.append(diagnosis_dict[keys[6]]) \n",
    "        elif 460 <= val <= 519:\n",
    "            indicator.append(diagnosis_dict[keys[7]]) \n",
    "        elif 520 <= val <= 579:\n",
    "            indicator.append(diagnosis_dict[keys[8]]) \n",
    "        elif 580 <= val <= 629:\n",
    "            indicator.append(diagnosis_dict[keys[9]]) \n",
    "        elif 630 <= val <= 679:\n",
    "            indicator.append(diagnosis_dict[keys[10]])\n",
    "        elif 680 <= val <= 709:\n",
    "            indicator.append(diagnosis_dict[keys[11]])\n",
    "        elif 710 <= val <= 739:\n",
    "            indicator.append(diagnosis_dict[keys[12]])\n",
    "        elif 740 <= val <= 759:\n",
    "            indicator.append(diagnosis_dict[keys[13]])\n",
    "        elif 760 <= val <= 779:\n",
    "            indicator.append(diagnosis_dict[keys[14]])\n",
    "        elif 780 <= val <= 799:\n",
    "            indicator.append(diagnosis_dict[keys[15]])\n",
    "        elif 800 <= val <= 999:\n",
    "            indicator.append(diagnosis_dict[keys[16]])\n",
    "        elif val < .5:\n",
    "            indicator.append(diagnosis_dict[keys[17]])\n",
    "        elif .5 <= val < 1:\n",
    "            indicator.append(diagnosis_dict[keys[18]])\n",
    "        else:\n",
    "            print(val)\n",
    "    \n",
    "    data['icd_range'] = indicator\n",
    "            \n",
    "    return data\n",
    "\n",
    "def convert_icd9(data):\n",
    "    converted_data = converting_icd9_range(data)\n",
    "    \n",
    "    #converted_data['icd_range'] = converted_data['icd_range'].astype(str)\n",
    "    converted_data['icd_range'] = converted_data['icd_range'].str.lower()\n",
    "    converted_data['icd_range'] = converted_data['icd_range'].str.replace(' ', '_')\n",
    "    \n",
    "    converted_data = converted_data.drop(columns=['icd9_code', 'icd_indicator'])\n",
    "    \n",
    "    return converted_data"
   ]
  },
  {
   "cell_type": "code",
   "execution_count": 698,
   "metadata": {},
   "outputs": [],
   "source": [
    "first_visit_data = convert_icd9(first_visit_data)"
   ]
  },
  {
   "cell_type": "markdown",
   "metadata": {},
   "source": [
    "### Updating Language to English, Other, Unkown"
   ]
  },
  {
   "cell_type": "code",
   "execution_count": 699,
   "metadata": {},
   "outputs": [
    {
     "data": {
      "text/plain": [
       "array([nan, 'POLI', 'ENGL', 'RUSS', 'SPAN'], dtype=object)"
      ]
     },
     "execution_count": 699,
     "metadata": {},
     "output_type": "execute_result"
    }
   ],
   "source": [
    "first_visit_data.language.unique()"
   ]
  },
  {
   "cell_type": "code",
   "execution_count": 700,
   "metadata": {},
   "outputs": [
    {
     "name": "stdout",
     "output_type": "stream",
     "text": [
      "<class 'pandas.core.frame.DataFrame'>\n",
      "Int64Index: 1092 entries, 0 to 1635\n",
      "Data columns (total 15 columns):\n",
      "subject_id            1092 non-null object\n",
      "hadm_id               1092 non-null object\n",
      "admittime             1092 non-null datetime64[ns]\n",
      "admission_type        1092 non-null object\n",
      "admission_location    1092 non-null object\n",
      "insurance             1092 non-null object\n",
      "language              765 non-null object\n",
      "religion              1092 non-null object\n",
      "marital_status        1032 non-null object\n",
      "ethnicity             1092 non-null object\n",
      "gender                1092 non-null object\n",
      "dob                   1092 non-null object\n",
      "curr_service          1092 non-null object\n",
      "los                   1092 non-null float64\n",
      "icd_range             1092 non-null object\n",
      "dtypes: datetime64[ns](1), float64(1), object(13)\n",
      "memory usage: 136.5+ KB\n"
     ]
    }
   ],
   "source": [
    "first_visit_data.info()"
   ]
  },
  {
   "cell_type": "code",
   "execution_count": 701,
   "metadata": {},
   "outputs": [],
   "source": [
    "def converting_langauge(data):\n",
    "    data.language = data.language.fillna('UNKNOWN')\n",
    "    ind_language = list(data.columns).index('language')\n",
    "    for i in range(data.shape[0]):\n",
    "        if (data.iloc[i, ind_language] == 'ENGL'):\n",
    "            data.iloc[i, ind_language] = 'ENGL'\n",
    "        elif (data.iloc[i, ind_language] == 'UNKNOWN'):\n",
    "            data.iloc[i, ind_language] = 'UNKNOWN'\n",
    "        elif (data.iloc[i, ind_language] != 'ENG'):\n",
    "            data.iloc[i, ind_language] = 'OTHER'\n",
    "            \n",
    "    return data"
   ]
  },
  {
   "cell_type": "code",
   "execution_count": 705,
   "metadata": {},
   "outputs": [],
   "source": [
    "first_visit_data = converting_langauge(first_visit_data)"
   ]
  },
  {
   "cell_type": "code",
   "execution_count": 706,
   "metadata": {},
   "outputs": [
    {
     "data": {
      "text/plain": [
       "array(['UNKNOWN', 'OTHER', 'ENGL'], dtype=object)"
      ]
     },
     "execution_count": 706,
     "metadata": {},
     "output_type": "execute_result"
    }
   ],
   "source": [
    "first_visit_data.language.unique()"
   ]
  },
  {
   "cell_type": "markdown",
   "metadata": {},
   "source": [
    "### Creating an age column"
   ]
  },
  {
   "cell_type": "code",
   "execution_count": 707,
   "metadata": {},
   "outputs": [],
   "source": [
    "first_visit_data.admittime = pd.to_datetime(first_visit_data.admittime).dt.date\n",
    "first_visit_data.dob = pd.to_datetime(first_visit_data.dob).dt.date\n",
    "\n",
    "first_visit_data['age'] = (first_visit_data.admittime - first_visit_data.dob)"
   ]
  },
  {
   "cell_type": "code",
   "execution_count": 808,
   "metadata": {},
   "outputs": [],
   "source": [
    "first_visit_data = first_visit_data[first_visit_data.age < 105]"
   ]
  },
  {
   "cell_type": "code",
   "execution_count": 810,
   "metadata": {},
   "outputs": [
    {
     "data": {
      "text/plain": [
       "array([70.68219178, 73.7260274 , 70.12376679, 82.54794521, 78.50136986,\n",
       "       88.06849315, 81.67945205, 75.9369863 , 88.09315068, 85.39178082,\n",
       "       70.8       , 76.07123288, 81.69315068, 53.4       , 83.23013699,\n",
       "       69.63561644, 75.71232877, 78.19726027, 85.18356164, 82.71506849,\n",
       "       77.53972603, 27.89041096, 70.56438356, 63.78630137, 72.66849315,\n",
       "       66.1260274 , 81.45753425, 83.32054795, 17.20273973, 51.6       ,\n",
       "       65.37534247, 66.63013699, 76.38082192, 80.89041096, 83.59452055,\n",
       "       76.98082192, 40.62739726, 87.20821918, 76.66575342, 72.5890411 ,\n",
       "       86.31780822, 48.98082192, 55.07671233, 62.29589041, 43.86575342,\n",
       "       72.77808219, 85.78630137, 77.27123288, 63.75890411, 85.65205479,\n",
       "       80.61369863, 86.94520548, 79.6739726 , 76.9369863 , 61.95890411,\n",
       "       55.13424658, 53.53972603, 71.68493151, 54.50136986, 45.46849315,\n",
       "       73.11232877, 58.18630137])"
      ]
     },
     "execution_count": 810,
     "metadata": {},
     "output_type": "execute_result"
    }
   ],
   "source": [
    "first_visit_data.age.unique()"
   ]
  },
  {
   "cell_type": "code",
   "execution_count": 710,
   "metadata": {},
   "outputs": [],
   "source": [
    "mean = first_visit_data.loc[first_visit_data['age']<105, 'age'].mean()\n",
    "first_visit_data.loc[first_visit_data.age > 105, 'age'] = np.nan\n",
    "first_visit_data.age = first_visit_data.age.fillna(mean)"
   ]
  },
  {
   "cell_type": "code",
   "execution_count": 711,
   "metadata": {},
   "outputs": [
    {
     "data": {
      "text/plain": [
       "array([70.68219178, 73.7260274 , 70.12376679, 82.54794521, 78.50136986,\n",
       "       88.06849315, 81.67945205, 75.9369863 , 88.09315068, 85.39178082,\n",
       "       70.8       , 76.07123288, 81.69315068, 53.4       , 83.23013699,\n",
       "       69.63561644, 75.71232877, 78.19726027, 85.18356164, 82.71506849,\n",
       "       77.53972603, 27.89041096, 70.56438356, 63.78630137, 72.66849315,\n",
       "       66.1260274 , 81.45753425, 83.32054795, 17.20273973, 51.6       ,\n",
       "       65.37534247, 66.63013699, 76.38082192, 80.89041096, 83.59452055,\n",
       "       76.98082192, 40.62739726, 87.20821918, 76.66575342, 72.5890411 ,\n",
       "       86.31780822, 48.98082192, 55.07671233, 62.29589041, 43.86575342,\n",
       "       72.77808219, 85.78630137, 77.27123288, 63.75890411, 85.65205479,\n",
       "       80.61369863, 86.94520548, 79.6739726 , 76.9369863 , 61.95890411,\n",
       "       55.13424658, 53.53972603, 71.68493151, 54.50136986, 45.46849315,\n",
       "       73.11232877, 58.18630137])"
      ]
     },
     "execution_count": 711,
     "metadata": {},
     "output_type": "execute_result"
    }
   ],
   "source": [
    "first_visit_data.age.unique()"
   ]
  },
  {
   "cell_type": "code",
   "execution_count": 712,
   "metadata": {},
   "outputs": [],
   "source": [
    "first_visit_data = first_visit_data.drop(columns = 'dob')"
   ]
  },
  {
   "cell_type": "code",
   "execution_count": 713,
   "metadata": {},
   "outputs": [
    {
     "name": "stdout",
     "output_type": "stream",
     "text": [
      "<class 'pandas.core.frame.DataFrame'>\n",
      "Int64Index: 1092 entries, 0 to 1635\n",
      "Data columns (total 15 columns):\n",
      "subject_id            1092 non-null object\n",
      "hadm_id               1092 non-null object\n",
      "admittime             1092 non-null object\n",
      "admission_type        1092 non-null object\n",
      "admission_location    1092 non-null object\n",
      "insurance             1092 non-null object\n",
      "language              1092 non-null object\n",
      "religion              1092 non-null object\n",
      "marital_status        1032 non-null object\n",
      "ethnicity             1092 non-null object\n",
      "gender                1092 non-null object\n",
      "curr_service          1092 non-null object\n",
      "los                   1092 non-null float64\n",
      "icd_range             1092 non-null object\n",
      "age                   1092 non-null float64\n",
      "dtypes: float64(2), object(13)\n",
      "memory usage: 176.5+ KB\n"
     ]
    }
   ],
   "source": [
    "first_visit_data.info()"
   ]
  },
  {
   "cell_type": "markdown",
   "metadata": {},
   "source": [
    "# Marital Status"
   ]
  },
  {
   "cell_type": "code",
   "execution_count": 714,
   "metadata": {},
   "outputs": [
    {
     "data": {
      "text/plain": [
       "array(['SEPARATED', 'DIVORCED', nan, 'MARRIED', 'WIDOWED',\n",
       "       'UNKNOWN (DEFAULT)', 'SINGLE'], dtype=object)"
      ]
     },
     "execution_count": 714,
     "metadata": {},
     "output_type": "execute_result"
    }
   ],
   "source": [
    "first_visit_data.marital_status.unique()"
   ]
  },
  {
   "cell_type": "code",
   "execution_count": 717,
   "metadata": {},
   "outputs": [],
   "source": [
    "def converting_marital_status(data):\n",
    "    data.language = data.language.fillna('UNKNOWN')\n",
    "    ind_ms = list(data.columns).index('marital_status')\n",
    "    for i in range(data.shape[0]):\n",
    "        if (data.iloc[i, ind_ms] == 'UNKNOWN (DEFAULT)'):\n",
    "            data.iloc[i, ind_ms] = 'UNKOWN'\n",
    "        elif (data.iloc[i, ind_ms] == 'MARRIED'):\n",
    "            data.iloc[i, ind_ms] = 'CURRENTLY_MARRIED'\n",
    "        elif (data.iloc[i, ind_ms] != 'SINGLE'):\n",
    "            data.iloc[i, ind_ms] = 'SINGLE'\n",
    "        else:\n",
    "            data.iloc[i, ind_ms] = 'WAS_MARRIED'\n",
    "            \n",
    "    return data"
   ]
  },
  {
   "cell_type": "code",
   "execution_count": 720,
   "metadata": {},
   "outputs": [],
   "source": [
    "first_visit_data = converting_marital_status(first_visit_data)"
   ]
  },
  {
   "cell_type": "code",
   "execution_count": 721,
   "metadata": {},
   "outputs": [
    {
     "data": {
      "text/plain": [
       "array(['WAS_MARRIED', 'SINGLE'], dtype=object)"
      ]
     },
     "execution_count": 721,
     "metadata": {},
     "output_type": "execute_result"
    }
   ],
   "source": [
    "first_visit_data.marital_status.unique()"
   ]
  },
  {
   "cell_type": "markdown",
   "metadata": {},
   "source": [
    "# Admission Location"
   ]
  },
  {
   "cell_type": "code",
   "execution_count": 723,
   "metadata": {},
   "outputs": [
    {
     "data": {
      "text/plain": [
       "array(['EMERGENCY ROOM ADMIT', 'PHYS REFERRAL/NORMAL DELI',\n",
       "       'TRANSFER FROM HOSP/EXTRAM', 'CLINIC REFERRAL/PREMATURE'],\n",
       "      dtype=object)"
      ]
     },
     "execution_count": 723,
     "metadata": {},
     "output_type": "execute_result"
    }
   ],
   "source": [
    "first_visit_data.admission_location.unique()"
   ]
  },
  {
   "cell_type": "code",
   "execution_count": 729,
   "metadata": {},
   "outputs": [],
   "source": [
    "def converting_admission_location(data):\n",
    "    data.admission_location = data.admission_location.fillna('UNKNOWN')\n",
    "    ind_al = list(data.columns).index('admission_location')\n",
    "    for i in range(data.shape[0]):\n",
    "        if (data.iloc[i, ind_al] == 'CLINICAL REFERRAL/PREMATURE') | (data.iloc[i, ind_al] == 'PHYS REFERRAL/NORMAL DELI'):\n",
    "            data.iloc[i, ind_al] = 'REFERRAL'\n",
    "        else:\n",
    "            continue   \n",
    "    return data"
   ]
  },
  {
   "cell_type": "code",
   "execution_count": 732,
   "metadata": {},
   "outputs": [],
   "source": [
    "first_visit_data = converting_admission_location(first_visit_data)"
   ]
  },
  {
   "cell_type": "code",
   "execution_count": 733,
   "metadata": {},
   "outputs": [
    {
     "data": {
      "text/plain": [
       "array(['EMERGENCY ROOM ADMIT', 'REFERRAL', 'TRANSFER FROM HOSP/EXTRAM',\n",
       "       'CLINIC REFERRAL/PREMATURE'], dtype=object)"
      ]
     },
     "execution_count": 733,
     "metadata": {},
     "output_type": "execute_result"
    }
   ],
   "source": [
    "first_visit_data.admission_location.unique()"
   ]
  },
  {
   "cell_type": "markdown",
   "metadata": {},
   "source": [
    "### Religion"
   ]
  },
  {
   "cell_type": "code",
   "execution_count": 735,
   "metadata": {},
   "outputs": [
    {
     "data": {
      "text/plain": [
       "array(['CATHOLIC', 'OTHER', 'PROTESTANT QUAKER', 'NOT SPECIFIED',\n",
       "       'UNOBTAINABLE', 'CHRISTIAN SCIENTIST', 'BUDDHIST', 'JEWISH',\n",
       "       'MUSLIM'], dtype=object)"
      ]
     },
     "execution_count": 735,
     "metadata": {},
     "output_type": "execute_result"
    }
   ],
   "source": [
    "first_visit_data.religion.unique()"
   ]
  },
  {
   "cell_type": "code",
   "execution_count": 736,
   "metadata": {},
   "outputs": [],
   "source": [
    "def converting_religions(data):\n",
    "    data.religion = data.religion.fillna('UNKNOWN')\n",
    "    ind_religion = list(data.columns).index('religion')\n",
    "    for i in range(data.shape[0]):\n",
    "        if (data.iloc[i, ind_religion] == 'UNOBTAINABLE') | (data.iloc[i, ind_religion] == 'NOT SPECIFIED'):\n",
    "            data.iloc[i, ind_religion] = 'UNKNOWN'\n",
    "        else:\n",
    "            continue   \n",
    "    return data"
   ]
  },
  {
   "cell_type": "code",
   "execution_count": 739,
   "metadata": {},
   "outputs": [],
   "source": [
    "first_visit_data = converting_religions(first_visit_data)"
   ]
  },
  {
   "cell_type": "code",
   "execution_count": 740,
   "metadata": {},
   "outputs": [
    {
     "data": {
      "text/plain": [
       "array(['CATHOLIC', 'OTHER', 'PROTESTANT QUAKER', 'UNKNOWN',\n",
       "       'CHRISTIAN SCIENTIST', 'BUDDHIST', 'JEWISH', 'MUSLIM'],\n",
       "      dtype=object)"
      ]
     },
     "execution_count": 740,
     "metadata": {},
     "output_type": "execute_result"
    }
   ],
   "source": [
    "first_visit_data.religion.unique()"
   ]
  },
  {
   "cell_type": "markdown",
   "metadata": {},
   "source": [
    "### Ethnicity"
   ]
  },
  {
   "cell_type": "code",
   "execution_count": 742,
   "metadata": {},
   "outputs": [
    {
     "data": {
      "text/plain": [
       "array(['BLACK/AFRICAN AMERICAN', 'WHITE', 'UNKNOWN/NOT SPECIFIED',\n",
       "       'ASIAN', 'HISPANIC OR LATINO', 'HISPANIC/LATINO - PUERTO RICAN',\n",
       "       'AMERICAN INDIAN/ALASKA NATIVE FEDERALLY RECOGNIZED TRIBE',\n",
       "       'OTHER'], dtype=object)"
      ]
     },
     "execution_count": 742,
     "metadata": {},
     "output_type": "execute_result"
    }
   ],
   "source": [
    "first_visit_data.ethnicity.unique()"
   ]
  },
  {
   "cell_type": "code",
   "execution_count": 747,
   "metadata": {},
   "outputs": [],
   "source": [
    "def converting_ethnicity(data):\n",
    "    data.ethnicity = data.ethnicity.fillna('UNKNOWN')\n",
    "    ind_ethnicity = list(data.columns).index('ethnicity')\n",
    "    for i in range(data.shape[0]):\n",
    "        if (data.iloc[i, ind_ethnicity] == 'HISPANIC/LATINO - PUERTO RICAN') | (data.iloc[i, ind_ethnicity] == 'HISPANIC OR LATINO'):\n",
    "            data.iloc[i, ind_ethnicity] = 'HISPANIC/LATINO'\n",
    "        else:\n",
    "            continue   \n",
    "    return data"
   ]
  },
  {
   "cell_type": "code",
   "execution_count": 750,
   "metadata": {},
   "outputs": [],
   "source": [
    "first_visit_data = converting_ethnicity(first_visit_data)"
   ]
  },
  {
   "cell_type": "code",
   "execution_count": 751,
   "metadata": {},
   "outputs": [
    {
     "data": {
      "text/plain": [
       "array(['BLACK/AFRICAN AMERICAN', 'WHITE', 'UNKNOWN/NOT SPECIFIED',\n",
       "       'ASIAN', 'HISPANIC/LATINO',\n",
       "       'AMERICAN INDIAN/ALASKA NATIVE FEDERALLY RECOGNIZED TRIBE',\n",
       "       'OTHER'], dtype=object)"
      ]
     },
     "execution_count": 751,
     "metadata": {},
     "output_type": "execute_result"
    }
   ],
   "source": [
    "first_visit_data.ethnicity.unique()"
   ]
  },
  {
   "cell_type": "code",
   "execution_count": null,
   "metadata": {},
   "outputs": [],
   "source": [
    "### Current Service"
   ]
  },
  {
   "cell_type": "code",
   "execution_count": 752,
   "metadata": {},
   "outputs": [
    {
     "data": {
      "text/plain": [
       "array(['MED', 'NMED', 'CSURG', 'SURG', 'VSURG', 'CMED', 'OMED', 'NSURG',\n",
       "       'TSURG', 'TRAUM', 'ORTHO', 'GU'], dtype=object)"
      ]
     },
     "execution_count": 752,
     "metadata": {},
     "output_type": "execute_result"
    }
   ],
   "source": [
    "first_visit_data.curr_service.unique()"
   ]
  },
  {
   "cell_type": "markdown",
   "metadata": {},
   "source": [
    "### Confirm only one HADM assigned per individual"
   ]
  },
  {
   "cell_type": "code",
   "execution_count": 760,
   "metadata": {},
   "outputs": [
    {
     "data": {
      "text/plain": [
       "67"
      ]
     },
     "execution_count": 760,
     "metadata": {},
     "output_type": "execute_result"
    }
   ],
   "source": [
    "first_visit_data.subject_id.nunique()"
   ]
  },
  {
   "cell_type": "code",
   "execution_count": 761,
   "metadata": {},
   "outputs": [
    {
     "data": {
      "text/plain": [
       "67"
      ]
     },
     "execution_count": 761,
     "metadata": {},
     "output_type": "execute_result"
    }
   ],
   "source": [
    "first_visit_data.hadm_id.nunique()"
   ]
  },
  {
   "cell_type": "code",
   "execution_count": 762,
   "metadata": {},
   "outputs": [],
   "source": [
    "first_visit_data = first_visit_data.drop(columns = 'hadm_id')"
   ]
  },
  {
   "cell_type": "code",
   "execution_count": 763,
   "metadata": {},
   "outputs": [
    {
     "name": "stdout",
     "output_type": "stream",
     "text": [
      "<class 'pandas.core.frame.DataFrame'>\n",
      "Int64Index: 1092 entries, 0 to 1635\n",
      "Data columns (total 14 columns):\n",
      "subject_id            1092 non-null object\n",
      "admittime             1092 non-null object\n",
      "admission_type        1092 non-null object\n",
      "admission_location    1092 non-null object\n",
      "insurance             1092 non-null object\n",
      "language              1092 non-null object\n",
      "religion              1092 non-null object\n",
      "marital_status        1092 non-null object\n",
      "ethnicity             1092 non-null object\n",
      "gender                1092 non-null object\n",
      "curr_service          1092 non-null object\n",
      "los                   1092 non-null float64\n",
      "icd_range             1092 non-null object\n",
      "age                   1092 non-null float64\n",
      "dtypes: float64(2), object(12)\n",
      "memory usage: 168.0+ KB\n"
     ]
    }
   ],
   "source": [
    "first_visit_data.info()"
   ]
  },
  {
   "cell_type": "markdown",
   "metadata": {},
   "source": [
    "## Dummifying"
   ]
  },
  {
   "cell_type": "code",
   "execution_count": 822,
   "metadata": {},
   "outputs": [],
   "source": [
    "dummy_data = first_visit_data.copy()"
   ]
  },
  {
   "cell_type": "code",
   "execution_count": 823,
   "metadata": {},
   "outputs": [],
   "source": [
    "dummy_data = pd.concat((dummy_data, pd.get_dummies(dummy_data['icd_range'])), axis=1)"
   ]
  },
  {
   "cell_type": "code",
   "execution_count": 824,
   "metadata": {},
   "outputs": [
    {
     "name": "stdout",
     "output_type": "stream",
     "text": [
      "<class 'pandas.core.frame.DataFrame'>\n",
      "Int64Index: 1092 entries, 0 to 1635\n",
      "Data columns (total 30 columns):\n",
      "subject_id                                                                                           1092 non-null object\n",
      "admittime                                                                                            1092 non-null object\n",
      "admission_type                                                                                       1092 non-null object\n",
      "admission_location                                                                                   1092 non-null object\n",
      "insurance                                                                                            1092 non-null object\n",
      "language                                                                                             1092 non-null object\n",
      "religion                                                                                             1092 non-null object\n",
      "marital_status                                                                                       1092 non-null object\n",
      "ethnicity                                                                                            1092 non-null object\n",
      "gender                                                                                               1092 non-null object\n",
      "curr_service                                                                                         1092 non-null object\n",
      "los                                                                                                  1092 non-null float64\n",
      "age                                                                                                  1092 non-null float64\n",
      "congenital_anomalie                                                                                  1092 non-null uint8\n",
      "diseases_of_the_blood_and_blood-forming_organ                                                        1092 non-null uint8\n",
      "diseases_of_the_circulatory_syste                                                                    1092 non-null uint8\n",
      "diseases_of_the_digestive_syste                                                                      1092 non-null uint8\n",
      "diseases_of_the_genitourinary_syste                                                                  1092 non-null uint8\n",
      "diseases_of_the_musculoskeletal_system_and_connective_tissu                                          1092 non-null uint8\n",
      "diseases_of_the_nervous_system_and_sense_organ                                                       1092 non-null uint8\n",
      "diseases_of_the_respiratory_syste                                                                    1092 non-null uint8\n",
      "diseases_of_the_skin_and_subcutaneous_tissu                                                          1092 non-null uint8\n",
      "endocrine,_nutritional_and_metabolic_diseases,_and_immunity_disorder                                 1092 non-null uint8\n",
      "infectious_and_parasitic_disease                                                                     1092 non-null uint8\n",
      "injury_and_poisonin                                                                                  1092 non-null uint8\n",
      "mental_disorder                                                                                      1092 non-null uint8\n",
      "neoplasm                                                                                             1092 non-null uint8\n",
      "supplementary_classification_of_external_causes_of_injury_and_poisonin                               1092 non-null uint8\n",
      "supplementary_classification_of_factors_influencing_health_status_and_contact_with_health_service    1092 non-null uint8\n",
      "symptoms,_signs_and_ill-defined_condition                                                            1092 non-null uint8\n",
      "dtypes: float64(2), object(11), uint8(17)\n",
      "memory usage: 137.6+ KB\n"
     ]
    }
   ],
   "source": [
    "dummy_data = dummy_data.drop(columns = 'icd_range')\n",
    "dummy_data.info()"
   ]
  },
  {
   "cell_type": "code",
   "execution_count": 829,
   "metadata": {},
   "outputs": [],
   "source": [
    "dummy_data = dummy_data.rename(columns = {'congenital_anomalie': 'd_anomalie',\n",
    "                                          'diseases_of_the_blood_and_blood-forming_organ': 'd_blood', \n",
    "                                          'diseases_of_the_circulatory_syste': 'd_circulatory', \n",
    "                                          'diseases_of_the_digestive_syste': 'd_digestive', \n",
    "                                          'diseases_of_the_genitourinary_syste': 'd_genitourinary', \n",
    "                                          'diseases_of_the_musculoskeletal_system_and_connective_tissu': 'd_musculoskeletal', \n",
    "                                          'diseases_of_the_nervous_system_and_sense_organ': 'd_nervous', \n",
    "                                          'diseases_of_the_respiratory_syste': 'd_respiratory', \n",
    "                                          'diseases_of_the_skin_and_subcutaneous_tissu': 'd_skin', \n",
    "                                          'endocrine,_nutritional_and_metabolic_diseases,_and_immunity_disorder': 'd_endo_metabolic_immunity', \n",
    "                                          'infectious_and_parasitic_disease': 'd_parasitic', \n",
    "                                          'injury_and_poisonin': 'd_poison_injury', \n",
    "                                          'mental_disorder': 'd_mental', \n",
    "                                          'neoplasm': 'd_neoplasm', \n",
    "                                          'supplementary_classification_of_external_causes_of_injury_and_poisonin': 'd_external_inj_poison', \n",
    "                                          'supplementary_classification_of_factors_influencing_health_status_and_contact_with_health_service': 'd_suppl_health_service', \n",
    "                                          'symptoms,_signs_and_ill-defined_condition':'d_ill_defined'})"
   ]
  },
  {
   "cell_type": "code",
   "execution_count": 830,
   "metadata": {},
   "outputs": [],
   "source": [
    "grouped_dummy_data = dummy_data.groupby('subject_id').max().reset_index()"
   ]
  },
  {
   "cell_type": "code",
   "execution_count": 831,
   "metadata": {},
   "outputs": [
    {
     "data": {
      "text/plain": [
       "(67, 30)"
      ]
     },
     "execution_count": 831,
     "metadata": {},
     "output_type": "execute_result"
    }
   ],
   "source": [
    "grouped_dummy_data.shape"
   ]
  },
  {
   "cell_type": "code",
   "execution_count": 832,
   "metadata": {},
   "outputs": [],
   "source": [
    "grouped_dummy_data['number_of_diagnoses'] = grouped_dummy_data['d_anomalie'] + grouped_dummy_data['d_blood'] + grouped_dummy_data['d_circulatory'] + grouped_dummy_data['d_digestive'] + grouped_dummy_data['d_digestive']"
   ]
  },
  {
   "cell_type": "code",
   "execution_count": 835,
   "metadata": {},
   "outputs": [
    {
     "data": {
      "text/plain": [
       "(67, 31)"
      ]
     },
     "execution_count": 835,
     "metadata": {},
     "output_type": "execute_result"
    }
   ],
   "source": [
    "grouped_dummy_data.shape"
   ]
  },
  {
   "cell_type": "code",
   "execution_count": null,
   "metadata": {},
   "outputs": [],
   "source": []
  }
 ],
 "metadata": {
  "kernelspec": {
   "display_name": "Python [conda env:metis] *",
   "language": "python",
   "name": "conda-env-metis-py"
  },
  "language_info": {
   "codemirror_mode": {
    "name": "ipython",
    "version": 3
   },
   "file_extension": ".py",
   "mimetype": "text/x-python",
   "name": "python",
   "nbconvert_exporter": "python",
   "pygments_lexer": "ipython3",
   "version": "3.7.4"
  }
 },
 "nbformat": 4,
 "nbformat_minor": 2
}
